{
 "cells": [
  {
   "cell_type": "code",
   "execution_count": 2,
   "metadata": {},
   "outputs": [],
   "source": [
    "import pandas as pd\n",
    "import numpy as np\n",
    "import seaborn as sns\n",
    "import matplotlib\n",
    "import matplotlib.pyplot as plt\n",
    "from sklearn.linear_model import LinearRegression\n",
    "from sklearn.model_selection import train_test_split\n",
    "from scipy import stats"
   ]
  },
  {
   "cell_type": "code",
   "execution_count": 3,
   "metadata": {},
   "outputs": [],
   "source": [
    "#IMPORT DATASET\n",
    "data_train = pd.read_csv(\"train.csv\")\n",
    "data_test = pd.read_csv(\"test.csv\")"
   ]
  },
  {
   "cell_type": "code",
   "execution_count": 4,
   "metadata": {},
   "outputs": [
    {
     "name": "stdout",
     "output_type": "stream",
     "text": [
      "   Id  MSSubClass MSZoning  LotFrontage  LotArea Street Alley LotShape  \\\n",
      "0   1          60       RL         65.0     8450   Pave   NaN      Reg   \n",
      "1   2          20       RL         80.0     9600   Pave   NaN      Reg   \n",
      "2   3          60       RL         68.0    11250   Pave   NaN      IR1   \n",
      "3   4          70       RL         60.0     9550   Pave   NaN      IR1   \n",
      "4   5          60       RL         84.0    14260   Pave   NaN      IR1   \n",
      "\n",
      "  LandContour Utilities  ... PoolArea PoolQC Fence MiscFeature MiscVal MoSold  \\\n",
      "0         Lvl    AllPub  ...        0    NaN   NaN         NaN       0      2   \n",
      "1         Lvl    AllPub  ...        0    NaN   NaN         NaN       0      5   \n",
      "2         Lvl    AllPub  ...        0    NaN   NaN         NaN       0      9   \n",
      "3         Lvl    AllPub  ...        0    NaN   NaN         NaN       0      2   \n",
      "4         Lvl    AllPub  ...        0    NaN   NaN         NaN       0     12   \n",
      "\n",
      "  YrSold  SaleType  SaleCondition  SalePrice  \n",
      "0   2008        WD         Normal     208500  \n",
      "1   2007        WD         Normal     181500  \n",
      "2   2008        WD         Normal     223500  \n",
      "3   2006        WD        Abnorml     140000  \n",
      "4   2008        WD         Normal     250000  \n",
      "\n",
      "[5 rows x 81 columns]\n"
     ]
    }
   ],
   "source": [
    "#menampilkan data frame\n",
    "print(data_train.head())"
   ]
  },
  {
   "cell_type": "code",
   "execution_count": 5,
   "metadata": {},
   "outputs": [
    {
     "name": "stdout",
     "output_type": "stream",
     "text": [
      "     Id  MSSubClass MSZoning  LotFrontage  LotArea Street Alley LotShape  \\\n",
      "0  1461          20       RH         80.0    11622   Pave   NaN      Reg   \n",
      "1  1462          20       RL         81.0    14267   Pave   NaN      IR1   \n",
      "2  1463          60       RL         74.0    13830   Pave   NaN      IR1   \n",
      "3  1464          60       RL         78.0     9978   Pave   NaN      IR1   \n",
      "4  1465         120       RL         43.0     5005   Pave   NaN      IR1   \n",
      "\n",
      "  LandContour Utilities  ... ScreenPorch PoolArea PoolQC  Fence MiscFeature  \\\n",
      "0         Lvl    AllPub  ...         120        0    NaN  MnPrv         NaN   \n",
      "1         Lvl    AllPub  ...           0        0    NaN    NaN        Gar2   \n",
      "2         Lvl    AllPub  ...           0        0    NaN  MnPrv         NaN   \n",
      "3         Lvl    AllPub  ...           0        0    NaN    NaN         NaN   \n",
      "4         HLS    AllPub  ...         144        0    NaN    NaN         NaN   \n",
      "\n",
      "  MiscVal MoSold  YrSold  SaleType  SaleCondition  \n",
      "0       0      6    2010        WD         Normal  \n",
      "1   12500      6    2010        WD         Normal  \n",
      "2       0      3    2010        WD         Normal  \n",
      "3       0      6    2010        WD         Normal  \n",
      "4       0      1    2010        WD         Normal  \n",
      "\n",
      "[5 rows x 80 columns]\n"
     ]
    }
   ],
   "source": [
    "#menampilkan data frame\n",
    "print(data_test.head())"
   ]
  },
  {
   "cell_type": "code",
   "execution_count": 6,
   "metadata": {},
   "outputs": [
    {
     "data": {
      "text/plain": [
       "Index(['Id', 'MSSubClass', 'MSZoning', 'LotFrontage', 'LotArea', 'Street',\n",
       "       'Alley', 'LotShape', 'LandContour', 'Utilities', 'LotConfig',\n",
       "       'LandSlope', 'Neighborhood', 'Condition1', 'Condition2', 'BldgType',\n",
       "       'HouseStyle', 'OverallQual', 'OverallCond', 'YearBuilt', 'YearRemodAdd',\n",
       "       'RoofStyle', 'RoofMatl', 'Exterior1st', 'Exterior2nd', 'MasVnrType',\n",
       "       'MasVnrArea', 'ExterQual', 'ExterCond', 'Foundation', 'BsmtQual',\n",
       "       'BsmtCond', 'BsmtExposure', 'BsmtFinType1', 'BsmtFinSF1',\n",
       "       'BsmtFinType2', 'BsmtFinSF2', 'BsmtUnfSF', 'TotalBsmtSF', 'Heating',\n",
       "       'HeatingQC', 'CentralAir', 'Electrical', '1stFlrSF', '2ndFlrSF',\n",
       "       'LowQualFinSF', 'GrLivArea', 'BsmtFullBath', 'BsmtHalfBath', 'FullBath',\n",
       "       'HalfBath', 'BedroomAbvGr', 'KitchenAbvGr', 'KitchenQual',\n",
       "       'TotRmsAbvGrd', 'Functional', 'Fireplaces', 'FireplaceQu', 'GarageType',\n",
       "       'GarageYrBlt', 'GarageFinish', 'GarageCars', 'GarageArea', 'GarageQual',\n",
       "       'GarageCond', 'PavedDrive', 'WoodDeckSF', 'OpenPorchSF',\n",
       "       'EnclosedPorch', '3SsnPorch', 'ScreenPorch', 'PoolArea', 'PoolQC',\n",
       "       'Fence', 'MiscFeature', 'MiscVal', 'MoSold', 'YrSold', 'SaleType',\n",
       "       'SaleCondition', 'SalePrice'],\n",
       "      dtype='object')"
      ]
     },
     "execution_count": 6,
     "metadata": {},
     "output_type": "execute_result"
    }
   ],
   "source": [
    "data_train.keys()\n"
   ]
  },
  {
   "cell_type": "code",
   "execution_count": 7,
   "metadata": {},
   "outputs": [
    {
     "data": {
      "text/plain": [
       "count    1460.000000\n",
       "mean        2.866438\n",
       "std         0.815778\n",
       "min         0.000000\n",
       "25%         2.000000\n",
       "50%         3.000000\n",
       "75%         3.000000\n",
       "max         8.000000\n",
       "Name: BedroomAbvGr, dtype: float64"
      ]
     },
     "execution_count": 7,
     "metadata": {},
     "output_type": "execute_result"
    }
   ],
   "source": [
    "data_train['BedroomAbvGr'].describe()\n"
   ]
  },
  {
   "cell_type": "code",
   "execution_count": 8,
   "metadata": {},
   "outputs": [
    {
     "data": {
      "text/plain": [
       "count    1460.000000\n",
       "mean        1.046575\n",
       "std         0.220338\n",
       "min         0.000000\n",
       "25%         1.000000\n",
       "50%         1.000000\n",
       "75%         1.000000\n",
       "max         3.000000\n",
       "Name: KitchenAbvGr, dtype: float64"
      ]
     },
     "execution_count": 8,
     "metadata": {},
     "output_type": "execute_result"
    }
   ],
   "source": [
    "data_train['KitchenAbvGr'].describe()\n"
   ]
  },
  {
   "cell_type": "code",
   "execution_count": 9,
   "metadata": {},
   "outputs": [
    {
     "data": {
      "text/plain": [
       "0"
      ]
     },
     "execution_count": 9,
     "metadata": {},
     "output_type": "execute_result"
    }
   ],
   "source": [
    "data_train.duplicated().sum()\n"
   ]
  },
  {
   "cell_type": "code",
   "execution_count": 10,
   "metadata": {},
   "outputs": [
    {
     "name": "stderr",
     "output_type": "stream",
     "text": [
      "C:\\Users\\User\\AppData\\Local\\Temp/ipykernel_2032/288595574.py:3: FutureWarning: Dropping of nuisance columns in DataFrame reductions (with 'numeric_only=None') is deprecated; in a future version this will raise TypeError.  Select only valid columns before calling the reduction.\n",
      "  NaN[NaN.sum(axis=1)>0]\n"
     ]
    },
    {
     "data": {
      "text/html": [
       "<div>\n",
       "<style scoped>\n",
       "    .dataframe tbody tr th:only-of-type {\n",
       "        vertical-align: middle;\n",
       "    }\n",
       "\n",
       "    .dataframe tbody tr th {\n",
       "        vertical-align: top;\n",
       "    }\n",
       "\n",
       "    .dataframe thead th {\n",
       "        text-align: right;\n",
       "    }\n",
       "</style>\n",
       "<table border=\"1\" class=\"dataframe\">\n",
       "  <thead>\n",
       "    <tr style=\"text-align: right;\">\n",
       "      <th></th>\n",
       "      <th>test</th>\n",
       "      <th>train</th>\n",
       "      <th>type data</th>\n",
       "    </tr>\n",
       "  </thead>\n",
       "  <tbody>\n",
       "    <tr>\n",
       "      <th>MSZoning</th>\n",
       "      <td>4.0</td>\n",
       "      <td>0</td>\n",
       "      <td>object</td>\n",
       "    </tr>\n",
       "    <tr>\n",
       "      <th>LotFrontage</th>\n",
       "      <td>227.0</td>\n",
       "      <td>259</td>\n",
       "      <td>float64</td>\n",
       "    </tr>\n",
       "    <tr>\n",
       "      <th>Alley</th>\n",
       "      <td>1352.0</td>\n",
       "      <td>1369</td>\n",
       "      <td>object</td>\n",
       "    </tr>\n",
       "    <tr>\n",
       "      <th>Utilities</th>\n",
       "      <td>2.0</td>\n",
       "      <td>0</td>\n",
       "      <td>object</td>\n",
       "    </tr>\n",
       "    <tr>\n",
       "      <th>Exterior1st</th>\n",
       "      <td>1.0</td>\n",
       "      <td>0</td>\n",
       "      <td>object</td>\n",
       "    </tr>\n",
       "    <tr>\n",
       "      <th>Exterior2nd</th>\n",
       "      <td>1.0</td>\n",
       "      <td>0</td>\n",
       "      <td>object</td>\n",
       "    </tr>\n",
       "    <tr>\n",
       "      <th>MasVnrType</th>\n",
       "      <td>16.0</td>\n",
       "      <td>8</td>\n",
       "      <td>object</td>\n",
       "    </tr>\n",
       "    <tr>\n",
       "      <th>MasVnrArea</th>\n",
       "      <td>15.0</td>\n",
       "      <td>8</td>\n",
       "      <td>float64</td>\n",
       "    </tr>\n",
       "    <tr>\n",
       "      <th>BsmtQual</th>\n",
       "      <td>44.0</td>\n",
       "      <td>37</td>\n",
       "      <td>object</td>\n",
       "    </tr>\n",
       "    <tr>\n",
       "      <th>BsmtCond</th>\n",
       "      <td>45.0</td>\n",
       "      <td>37</td>\n",
       "      <td>object</td>\n",
       "    </tr>\n",
       "    <tr>\n",
       "      <th>BsmtExposure</th>\n",
       "      <td>44.0</td>\n",
       "      <td>38</td>\n",
       "      <td>object</td>\n",
       "    </tr>\n",
       "    <tr>\n",
       "      <th>BsmtFinType1</th>\n",
       "      <td>42.0</td>\n",
       "      <td>37</td>\n",
       "      <td>object</td>\n",
       "    </tr>\n",
       "    <tr>\n",
       "      <th>BsmtFinSF1</th>\n",
       "      <td>1.0</td>\n",
       "      <td>0</td>\n",
       "      <td>int64</td>\n",
       "    </tr>\n",
       "    <tr>\n",
       "      <th>BsmtFinType2</th>\n",
       "      <td>42.0</td>\n",
       "      <td>38</td>\n",
       "      <td>object</td>\n",
       "    </tr>\n",
       "    <tr>\n",
       "      <th>BsmtFinSF2</th>\n",
       "      <td>1.0</td>\n",
       "      <td>0</td>\n",
       "      <td>int64</td>\n",
       "    </tr>\n",
       "    <tr>\n",
       "      <th>BsmtUnfSF</th>\n",
       "      <td>1.0</td>\n",
       "      <td>0</td>\n",
       "      <td>int64</td>\n",
       "    </tr>\n",
       "    <tr>\n",
       "      <th>TotalBsmtSF</th>\n",
       "      <td>1.0</td>\n",
       "      <td>0</td>\n",
       "      <td>int64</td>\n",
       "    </tr>\n",
       "    <tr>\n",
       "      <th>Electrical</th>\n",
       "      <td>0.0</td>\n",
       "      <td>1</td>\n",
       "      <td>object</td>\n",
       "    </tr>\n",
       "    <tr>\n",
       "      <th>BsmtFullBath</th>\n",
       "      <td>2.0</td>\n",
       "      <td>0</td>\n",
       "      <td>int64</td>\n",
       "    </tr>\n",
       "    <tr>\n",
       "      <th>BsmtHalfBath</th>\n",
       "      <td>2.0</td>\n",
       "      <td>0</td>\n",
       "      <td>int64</td>\n",
       "    </tr>\n",
       "    <tr>\n",
       "      <th>KitchenQual</th>\n",
       "      <td>1.0</td>\n",
       "      <td>0</td>\n",
       "      <td>object</td>\n",
       "    </tr>\n",
       "    <tr>\n",
       "      <th>Functional</th>\n",
       "      <td>2.0</td>\n",
       "      <td>0</td>\n",
       "      <td>object</td>\n",
       "    </tr>\n",
       "    <tr>\n",
       "      <th>FireplaceQu</th>\n",
       "      <td>730.0</td>\n",
       "      <td>690</td>\n",
       "      <td>object</td>\n",
       "    </tr>\n",
       "    <tr>\n",
       "      <th>GarageType</th>\n",
       "      <td>76.0</td>\n",
       "      <td>81</td>\n",
       "      <td>object</td>\n",
       "    </tr>\n",
       "    <tr>\n",
       "      <th>GarageYrBlt</th>\n",
       "      <td>78.0</td>\n",
       "      <td>81</td>\n",
       "      <td>float64</td>\n",
       "    </tr>\n",
       "    <tr>\n",
       "      <th>GarageFinish</th>\n",
       "      <td>78.0</td>\n",
       "      <td>81</td>\n",
       "      <td>object</td>\n",
       "    </tr>\n",
       "    <tr>\n",
       "      <th>GarageCars</th>\n",
       "      <td>1.0</td>\n",
       "      <td>0</td>\n",
       "      <td>int64</td>\n",
       "    </tr>\n",
       "    <tr>\n",
       "      <th>GarageArea</th>\n",
       "      <td>1.0</td>\n",
       "      <td>0</td>\n",
       "      <td>int64</td>\n",
       "    </tr>\n",
       "    <tr>\n",
       "      <th>GarageQual</th>\n",
       "      <td>78.0</td>\n",
       "      <td>81</td>\n",
       "      <td>object</td>\n",
       "    </tr>\n",
       "    <tr>\n",
       "      <th>GarageCond</th>\n",
       "      <td>78.0</td>\n",
       "      <td>81</td>\n",
       "      <td>object</td>\n",
       "    </tr>\n",
       "    <tr>\n",
       "      <th>PoolQC</th>\n",
       "      <td>1456.0</td>\n",
       "      <td>1453</td>\n",
       "      <td>object</td>\n",
       "    </tr>\n",
       "    <tr>\n",
       "      <th>Fence</th>\n",
       "      <td>1169.0</td>\n",
       "      <td>1179</td>\n",
       "      <td>object</td>\n",
       "    </tr>\n",
       "    <tr>\n",
       "      <th>MiscFeature</th>\n",
       "      <td>1408.0</td>\n",
       "      <td>1406</td>\n",
       "      <td>object</td>\n",
       "    </tr>\n",
       "    <tr>\n",
       "      <th>SaleType</th>\n",
       "      <td>1.0</td>\n",
       "      <td>0</td>\n",
       "      <td>object</td>\n",
       "    </tr>\n",
       "  </tbody>\n",
       "</table>\n",
       "</div>"
      ],
      "text/plain": [
       "                test  train type data\n",
       "MSZoning         4.0      0    object\n",
       "LotFrontage    227.0    259   float64\n",
       "Alley         1352.0   1369    object\n",
       "Utilities        2.0      0    object\n",
       "Exterior1st      1.0      0    object\n",
       "Exterior2nd      1.0      0    object\n",
       "MasVnrType      16.0      8    object\n",
       "MasVnrArea      15.0      8   float64\n",
       "BsmtQual        44.0     37    object\n",
       "BsmtCond        45.0     37    object\n",
       "BsmtExposure    44.0     38    object\n",
       "BsmtFinType1    42.0     37    object\n",
       "BsmtFinSF1       1.0      0     int64\n",
       "BsmtFinType2    42.0     38    object\n",
       "BsmtFinSF2       1.0      0     int64\n",
       "BsmtUnfSF        1.0      0     int64\n",
       "TotalBsmtSF      1.0      0     int64\n",
       "Electrical       0.0      1    object\n",
       "BsmtFullBath     2.0      0     int64\n",
       "BsmtHalfBath     2.0      0     int64\n",
       "KitchenQual      1.0      0    object\n",
       "Functional       2.0      0    object\n",
       "FireplaceQu    730.0    690    object\n",
       "GarageType      76.0     81    object\n",
       "GarageYrBlt     78.0     81   float64\n",
       "GarageFinish    78.0     81    object\n",
       "GarageCars       1.0      0     int64\n",
       "GarageArea       1.0      0     int64\n",
       "GarageQual      78.0     81    object\n",
       "GarageCond      78.0     81    object\n",
       "PoolQC        1456.0   1453    object\n",
       "Fence         1169.0   1179    object\n",
       "MiscFeature   1408.0   1406    object\n",
       "SaleType         1.0      0    object"
      ]
     },
     "execution_count": 10,
     "metadata": {},
     "output_type": "execute_result"
    }
   ],
   "source": [
    "#pengecekkan nilai null pada data_train dan data_test\n",
    "NaN = pd.concat([data_test.isna().sum(), data_train.isna().sum(), data_train.dtypes], axis=1, keys=['test','train','type data'])\n",
    "NaN[NaN.sum(axis=1)>0]"
   ]
  },
  {
   "cell_type": "code",
   "execution_count": 11,
   "metadata": {},
   "outputs": [],
   "source": [
    "#karena kolom diatas kebanyakan yang null adalah kolom kategorikal maka lebih baik didrop aja, karna gk begitu ngaruh klo data kategorikal diisi sama nilai rata2.\n",
    "#tapi untuk beberapa kolom yang bertipe int/float ttp dipertahanin dan baris yang hilang diisi dengan nilai rata-rata pada kolom tersebut"
   ]
  },
  {
   "cell_type": "code",
   "execution_count": 12,
   "metadata": {},
   "outputs": [
    {
     "name": "stderr",
     "output_type": "stream",
     "text": [
      "C:\\Users\\User\\AppData\\Local\\Temp/ipykernel_2032/2636027944.py:1: FutureWarning: In a future version of pandas all arguments of DataFrame.drop except for the argument 'labels' will be keyword-only.\n",
      "  train_bersih= data_train.drop((NaN[NaN['train'] > 1]).index, 1)\n"
     ]
    }
   ],
   "source": [
    "train_bersih= data_train.drop((NaN[NaN['train'] > 1]).index, 1)"
   ]
  },
  {
   "cell_type": "code",
   "execution_count": 13,
   "metadata": {},
   "outputs": [],
   "source": [
    "train_bersih = train_bersih.drop(train_bersih.loc[train_bersih['Electrical'].isnull()].index)\n"
   ]
  },
  {
   "cell_type": "code",
   "execution_count": 14,
   "metadata": {},
   "outputs": [
    {
     "data": {
      "text/plain": [
       "(1459, 63)"
      ]
     },
     "execution_count": 14,
     "metadata": {},
     "output_type": "execute_result"
    }
   ],
   "source": [
    "train_bersih.shape"
   ]
  },
  {
   "cell_type": "code",
   "execution_count": 15,
   "metadata": {},
   "outputs": [
    {
     "name": "stdout",
     "output_type": "stream",
     "text": [
      "shape dataset train (1460, 81)\n",
      "shape dataset train setelah dibersihkan: (1459, 63)\n"
     ]
    },
    {
     "data": {
      "text/plain": [
       "Index(['Id', 'MSSubClass', 'MSZoning', 'LotArea', 'Street', 'LotShape',\n",
       "       'LandContour', 'Utilities', 'LotConfig', 'LandSlope', 'Neighborhood',\n",
       "       'Condition1', 'Condition2', 'BldgType', 'HouseStyle', 'OverallQual',\n",
       "       'OverallCond', 'YearBuilt', 'YearRemodAdd', 'RoofStyle', 'RoofMatl',\n",
       "       'Exterior1st', 'Exterior2nd', 'ExterQual', 'ExterCond', 'Foundation',\n",
       "       'BsmtFinSF1', 'BsmtFinSF2', 'BsmtUnfSF', 'TotalBsmtSF', 'Heating',\n",
       "       'HeatingQC', 'CentralAir', 'Electrical', '1stFlrSF', '2ndFlrSF',\n",
       "       'LowQualFinSF', 'GrLivArea', 'BsmtFullBath', 'BsmtHalfBath', 'FullBath',\n",
       "       'HalfBath', 'BedroomAbvGr', 'KitchenAbvGr', 'KitchenQual',\n",
       "       'TotRmsAbvGrd', 'Functional', 'Fireplaces', 'GarageCars', 'GarageArea',\n",
       "       'PavedDrive', 'WoodDeckSF', 'OpenPorchSF', 'EnclosedPorch', '3SsnPorch',\n",
       "       'ScreenPorch', 'PoolArea', 'MiscVal', 'MoSold', 'YrSold', 'SaleType',\n",
       "       'SaleCondition', 'SalePrice'],\n",
       "      dtype='object')"
      ]
     },
     "execution_count": 15,
     "metadata": {},
     "output_type": "execute_result"
    }
   ],
   "source": [
    "print(\"shape dataset train\" + \" \" + str(data_train.shape))\n",
    "print(\"shape dataset train setelah dibersihkan:\" + \" \" + str(train_bersih.shape))\n",
    "train_bersih.keys()\n"
   ]
  },
  {
   "cell_type": "code",
   "execution_count": 16,
   "metadata": {},
   "outputs": [
    {
     "data": {
      "text/plain": [
       "0"
      ]
     },
     "execution_count": 16,
     "metadata": {},
     "output_type": "execute_result"
    }
   ],
   "source": [
    "train_bersih.isna().sum().sum()"
   ]
  },
  {
   "cell_type": "code",
   "execution_count": 17,
   "metadata": {},
   "outputs": [
    {
     "data": {
      "text/plain": [
       "<AxesSubplot: >"
      ]
     },
     "execution_count": 17,
     "metadata": {},
     "output_type": "execute_result"
    },
    {
     "data": {
      "image/png": "[encoded data removed]",
      "text/plain": [
       "<Figure size 1080x864 with 2 Axes>"
      ]
     },
     "metadata": {
      "needs_background": "light"
     },
     "output_type": "display_data"
    }
   ],
   "source": [
    "#memvisualisasikan korelasi antar kolom dalam heatmap\n",
    "corr = train_bersih.corr()\n",
    "fig, axes = plt.subplots(figsize=(15, 12))\n",
    "sns.heatmap(corr, vmax=.8)"
   ]
  },
  {
   "cell_type": "code",
   "execution_count": 18,
   "metadata": {},
   "outputs": [
    {
     "name": "stdout",
     "output_type": "stream",
     "text": [
      "SalePrice        1.000000\n",
      "OverallQual      0.791069\n",
      "GrLivArea        0.708618\n",
      "GarageCars       0.640473\n",
      "GarageArea       0.623423\n",
      "TotalBsmtSF      0.613905\n",
      "1stFlrSF         0.605968\n",
      "FullBath         0.560881\n",
      "TotRmsAbvGrd     0.533779\n",
      "YearBuilt        0.523273\n",
      "YearRemodAdd     0.507430\n",
      "Fireplaces       0.466968\n",
      "BsmtFinSF1       0.386436\n",
      "WoodDeckSF       0.324422\n",
      "2ndFlrSF         0.319464\n",
      "OpenPorchSF      0.315831\n",
      "HalfBath         0.284400\n",
      "LotArea          0.263837\n",
      "BsmtFullBath     0.227082\n",
      "BsmtUnfSF        0.214446\n",
      "BedroomAbvGr     0.168235\n",
      "ScreenPorch      0.111419\n",
      "PoolArea         0.092397\n",
      "MoSold           0.046380\n",
      "3SsnPorch        0.044571\n",
      "BsmtFinSF2      -0.011412\n",
      "BsmtHalfBath    -0.016873\n",
      "MiscVal         -0.021200\n",
      "Id              -0.021756\n",
      "LowQualFinSF    -0.025620\n",
      "YrSold          -0.028907\n",
      "OverallCond     -0.077924\n",
      "MSSubClass      -0.084230\n",
      "EnclosedPorch   -0.128627\n",
      "KitchenAbvGr    -0.135935\n",
      "Name: SalePrice, dtype: float64 \n",
      "\n"
     ]
    }
   ],
   "source": [
    "#karna kolom saleprice adalah sebuah label, maka sekarang kita lihat korelasi saleprice terhadap kolom lain\n",
    "korelasi_train = train_bersih.select_dtypes(include=[np.number])\n",
    "korelasi_train.columns\n",
    "correlation = korelasi_train.corr()\n",
    "print(correlation['SalePrice'].sort_values(ascending=False), '\\n')\n"
   ]
  },
  {
   "cell_type": "code",
   "execution_count": 19,
   "metadata": {},
   "outputs": [],
   "source": [
    "#Exploratory Data Analysis (EDA)"
   ]
  },
  {
   "cell_type": "code",
   "execution_count": 20,
   "metadata": {},
   "outputs": [
    {
     "data": {
      "text/html": [
       "<div>\n",
       "<style scoped>\n",
       "    .dataframe tbody tr th:only-of-type {\n",
       "        vertical-align: middle;\n",
       "    }\n",
       "\n",
       "    .dataframe tbody tr th {\n",
       "        vertical-align: top;\n",
       "    }\n",
       "\n",
       "    .dataframe thead th {\n",
       "        text-align: right;\n",
       "    }\n",
       "</style>\n",
       "<table border=\"1\" class=\"dataframe\">\n",
       "  <thead>\n",
       "    <tr style=\"text-align: right;\">\n",
       "      <th></th>\n",
       "      <th>Id</th>\n",
       "      <th>MSSubClass</th>\n",
       "      <th>MSZoning</th>\n",
       "      <th>LotArea</th>\n",
       "      <th>Street</th>\n",
       "      <th>LotShape</th>\n",
       "      <th>LandContour</th>\n",
       "      <th>Utilities</th>\n",
       "      <th>LotConfig</th>\n",
       "      <th>LandSlope</th>\n",
       "      <th>...</th>\n",
       "      <th>EnclosedPorch</th>\n",
       "      <th>3SsnPorch</th>\n",
       "      <th>ScreenPorch</th>\n",
       "      <th>PoolArea</th>\n",
       "      <th>MiscVal</th>\n",
       "      <th>MoSold</th>\n",
       "      <th>YrSold</th>\n",
       "      <th>SaleType</th>\n",
       "      <th>SaleCondition</th>\n",
       "      <th>SalePrice</th>\n",
       "    </tr>\n",
       "  </thead>\n",
       "  <tbody>\n",
       "    <tr>\n",
       "      <th>0</th>\n",
       "      <td>1</td>\n",
       "      <td>60</td>\n",
       "      <td>RL</td>\n",
       "      <td>8450</td>\n",
       "      <td>Pave</td>\n",
       "      <td>Reg</td>\n",
       "      <td>Lvl</td>\n",
       "      <td>AllPub</td>\n",
       "      <td>Inside</td>\n",
       "      <td>Gtl</td>\n",
       "      <td>...</td>\n",
       "      <td>0</td>\n",
       "      <td>0</td>\n",
       "      <td>0</td>\n",
       "      <td>0</td>\n",
       "      <td>0</td>\n",
       "      <td>2</td>\n",
       "      <td>2008</td>\n",
       "      <td>WD</td>\n",
       "      <td>Normal</td>\n",
       "      <td>208500</td>\n",
       "    </tr>\n",
       "    <tr>\n",
       "      <th>1</th>\n",
       "      <td>2</td>\n",
       "      <td>20</td>\n",
       "      <td>RL</td>\n",
       "      <td>9600</td>\n",
       "      <td>Pave</td>\n",
       "      <td>Reg</td>\n",
       "      <td>Lvl</td>\n",
       "      <td>AllPub</td>\n",
       "      <td>FR2</td>\n",
       "      <td>Gtl</td>\n",
       "      <td>...</td>\n",
       "      <td>0</td>\n",
       "      <td>0</td>\n",
       "      <td>0</td>\n",
       "      <td>0</td>\n",
       "      <td>0</td>\n",
       "      <td>5</td>\n",
       "      <td>2007</td>\n",
       "      <td>WD</td>\n",
       "      <td>Normal</td>\n",
       "      <td>181500</td>\n",
       "    </tr>\n",
       "    <tr>\n",
       "      <th>2</th>\n",
       "      <td>3</td>\n",
       "      <td>60</td>\n",
       "      <td>RL</td>\n",
       "      <td>11250</td>\n",
       "      <td>Pave</td>\n",
       "      <td>IR1</td>\n",
       "      <td>Lvl</td>\n",
       "      <td>AllPub</td>\n",
       "      <td>Inside</td>\n",
       "      <td>Gtl</td>\n",
       "      <td>...</td>\n",
       "      <td>0</td>\n",
       "      <td>0</td>\n",
       "      <td>0</td>\n",
       "      <td>0</td>\n",
       "      <td>0</td>\n",
       "      <td>9</td>\n",
       "      <td>2008</td>\n",
       "      <td>WD</td>\n",
       "      <td>Normal</td>\n",
       "      <td>223500</td>\n",
       "    </tr>\n",
       "    <tr>\n",
       "      <th>3</th>\n",
       "      <td>4</td>\n",
       "      <td>70</td>\n",
       "      <td>RL</td>\n",
       "      <td>9550</td>\n",
       "      <td>Pave</td>\n",
       "      <td>IR1</td>\n",
       "      <td>Lvl</td>\n",
       "      <td>AllPub</td>\n",
       "      <td>Corner</td>\n",
       "      <td>Gtl</td>\n",
       "      <td>...</td>\n",
       "      <td>272</td>\n",
       "      <td>0</td>\n",
       "      <td>0</td>\n",
       "      <td>0</td>\n",
       "      <td>0</td>\n",
       "      <td>2</td>\n",
       "      <td>2006</td>\n",
       "      <td>WD</td>\n",
       "      <td>Abnorml</td>\n",
       "      <td>140000</td>\n",
       "    </tr>\n",
       "    <tr>\n",
       "      <th>4</th>\n",
       "      <td>5</td>\n",
       "      <td>60</td>\n",
       "      <td>RL</td>\n",
       "      <td>14260</td>\n",
       "      <td>Pave</td>\n",
       "      <td>IR1</td>\n",
       "      <td>Lvl</td>\n",
       "      <td>AllPub</td>\n",
       "      <td>FR2</td>\n",
       "      <td>Gtl</td>\n",
       "      <td>...</td>\n",
       "      <td>0</td>\n",
       "      <td>0</td>\n",
       "      <td>0</td>\n",
       "      <td>0</td>\n",
       "      <td>0</td>\n",
       "      <td>12</td>\n",
       "      <td>2008</td>\n",
       "      <td>WD</td>\n",
       "      <td>Normal</td>\n",
       "      <td>250000</td>\n",
       "    </tr>\n",
       "  </tbody>\n",
       "</table>\n",
       "<p>5 rows × 63 columns</p>\n",
       "</div>"
      ],
      "text/plain": [
       "   Id  MSSubClass MSZoning  LotArea Street LotShape LandContour Utilities  \\\n",
       "0   1          60       RL     8450   Pave      Reg         Lvl    AllPub   \n",
       "1   2          20       RL     9600   Pave      Reg         Lvl    AllPub   \n",
       "2   3          60       RL    11250   Pave      IR1         Lvl    AllPub   \n",
       "3   4          70       RL     9550   Pave      IR1         Lvl    AllPub   \n",
       "4   5          60       RL    14260   Pave      IR1         Lvl    AllPub   \n",
       "\n",
       "  LotConfig LandSlope  ... EnclosedPorch 3SsnPorch ScreenPorch PoolArea  \\\n",
       "0    Inside       Gtl  ...             0         0           0        0   \n",
       "1       FR2       Gtl  ...             0         0           0        0   \n",
       "2    Inside       Gtl  ...             0         0           0        0   \n",
       "3    Corner       Gtl  ...           272         0           0        0   \n",
       "4       FR2       Gtl  ...             0         0           0        0   \n",
       "\n",
       "  MiscVal  MoSold  YrSold  SaleType  SaleCondition SalePrice  \n",
       "0       0       2    2008        WD         Normal    208500  \n",
       "1       0       5    2007        WD         Normal    181500  \n",
       "2       0       9    2008        WD         Normal    223500  \n",
       "3       0       2    2006        WD        Abnorml    140000  \n",
       "4       0      12    2008        WD         Normal    250000  \n",
       "\n",
       "[5 rows x 63 columns]"
      ]
     },
     "execution_count": 20,
     "metadata": {},
     "output_type": "execute_result"
    }
   ],
   "source": [
    "train_bersih.head()"
   ]
  },
  {
   "cell_type": "code",
   "execution_count": 21,
   "metadata": {},
   "outputs": [
    {
     "name": "stdout",
     "output_type": "stream",
     "text": [
      "max YearBuilt: 2010\n",
      "min YearBuilt: 1872\n"
     ]
    }
   ],
   "source": [
    "print(\"max YearBuilt:\" + \" \" + str(train_bersih[\"YearBuilt\"].max()))\n",
    "print(\"min YearBuilt:\" + \" \" + str(train_bersih[\"YearBuilt\"].min()))"
   ]
  },
  {
   "cell_type": "code",
   "execution_count": 22,
   "metadata": {},
   "outputs": [
    {
     "name": "stdout",
     "output_type": "stream",
     "text": [
      "max YearRemodAdd: 2010\n",
      "min YearRemodAdd: 1950\n"
     ]
    }
   ],
   "source": [
    "print(\"max YearRemodAdd:\" + \" \" + str(train_bersih[\"YearRemodAdd\"].max()))\n",
    "print(\"min YearRemodAdd:\" + \" \" + str(train_bersih[\"YearRemodAdd\"].min()))"
   ]
  },
  {
   "cell_type": "code",
   "execution_count": 23,
   "metadata": {},
   "outputs": [
    {
     "name": "stderr",
     "output_type": "stream",
     "text": [
      "C:\\Users\\User\\AppData\\Local\\Temp/ipykernel_2032/2588858792.py:1: UserWarning: \n",
      "\n",
      "`distplot` is a deprecated function and will be removed in seaborn v0.14.0.\n",
      "\n",
      "Please adapt your code to use either `displot` (a figure-level function with\n",
      "similar flexibility) or `histplot` (an axes-level function for histograms).\n",
      "\n",
      "For a guide to updating your code to use the new functions, please see\n",
      "https://gist.github.com/mwaskom/de44147ed2974457ad6372750bbe5751\n",
      "\n",
      "  sns.distplot(train_bersih['SalePrice'])\n"
     ]
    },
    {
     "data": {
      "image/png": "[encoded data removed]",
      "text/plain": [
       "<Figure size 432x288 with 1 Axes>"
      ]
     },
     "metadata": {
      "needs_background": "light"
     },
     "output_type": "display_data"
    }
   ],
   "source": [
    "sns.distplot(train_bersih['SalePrice'])\n",
    "plt.show()"
   ]
  },
  {
   "cell_type": "code",
   "execution_count": 24,
   "metadata": {},
   "outputs": [],
   "source": [
    "#untuk membuat model machine learning Regresi Linear maka data harus terdistribusi normal\n",
    "#sedangkan plot diatas menampilkan bahwa kolom SalePrice condong ke kanan, tidak terdistribusi normal"
   ]
  },
  {
   "cell_type": "code",
   "execution_count": 25,
   "metadata": {},
   "outputs": [],
   "source": [
    "#bisa kita lihat bahwa"
   ]
  },
  {
   "cell_type": "code",
   "execution_count": 26,
   "metadata": {},
   "outputs": [
    {
     "name": "stdout",
     "output_type": "stream",
     "text": [
      "Skewness: 1.881943\n",
      "Kurtosis: 6.529263\n"
     ]
    }
   ],
   "source": [
    "print(\"Skewness: %f\" % train_bersih['SalePrice'].skew())\n",
    "print(\"Kurtosis: %f\" % train_bersih['SalePrice'].kurt())\n"
   ]
  },
  {
   "cell_type": "code",
   "execution_count": 27,
   "metadata": {},
   "outputs": [
    {
     "name": "stderr",
     "output_type": "stream",
     "text": [
      "C:\\Users\\User\\AppData\\Local\\Temp/ipykernel_2032/716386116.py:3: UserWarning: \n",
      "\n",
      "`distplot` is a deprecated function and will be removed in seaborn v0.14.0.\n",
      "\n",
      "Please adapt your code to use either `displot` (a figure-level function with\n",
      "similar flexibility) or `histplot` (an axes-level function for histograms).\n",
      "\n",
      "For a guide to updating your code to use the new functions, please see\n",
      "https://gist.github.com/mwaskom/de44147ed2974457ad6372750bbe5751\n",
      "\n",
      "  sns.distplot(train_bersih['SalePrice'])\n"
     ]
    },
    {
     "data": {
      "image/png": "[encoded data removed]",
      "text/plain": [
       "<Figure size 432x288 with 1 Axes>"
      ]
     },
     "metadata": {
      "needs_background": "light"
     },
     "output_type": "display_data"
    }
   ],
   "source": [
    "#mengubah variabel target(sale price) dengan numpy\n",
    "train_bersih['SalePrice'] = np.log1p(train_bersih['SalePrice'])\n",
    "sns.distplot(train_bersih['SalePrice'])\n",
    "plt.show()\n"
   ]
  },
  {
   "cell_type": "code",
   "execution_count": 28,
   "metadata": {},
   "outputs": [
    {
     "data": {
      "text/html": [
       "<div>\n",
       "<style scoped>\n",
       "    .dataframe tbody tr th:only-of-type {\n",
       "        vertical-align: middle;\n",
       "    }\n",
       "\n",
       "    .dataframe tbody tr th {\n",
       "        vertical-align: top;\n",
       "    }\n",
       "\n",
       "    .dataframe thead th {\n",
       "        text-align: right;\n",
       "    }\n",
       "</style>\n",
       "<table border=\"1\" class=\"dataframe\">\n",
       "  <thead>\n",
       "    <tr style=\"text-align: right;\">\n",
       "      <th></th>\n",
       "      <th>Id</th>\n",
       "      <th>MSSubClass</th>\n",
       "      <th>LotArea</th>\n",
       "      <th>OverallQual</th>\n",
       "      <th>OverallCond</th>\n",
       "      <th>YearBuilt</th>\n",
       "      <th>YearRemodAdd</th>\n",
       "      <th>BsmtFinSF1</th>\n",
       "      <th>BsmtFinSF2</th>\n",
       "      <th>BsmtUnfSF</th>\n",
       "      <th>...</th>\n",
       "      <th>SaleType_ConLw</th>\n",
       "      <th>SaleType_New</th>\n",
       "      <th>SaleType_Oth</th>\n",
       "      <th>SaleType_WD</th>\n",
       "      <th>SaleCondition_Abnorml</th>\n",
       "      <th>SaleCondition_AdjLand</th>\n",
       "      <th>SaleCondition_Alloca</th>\n",
       "      <th>SaleCondition_Family</th>\n",
       "      <th>SaleCondition_Normal</th>\n",
       "      <th>SaleCondition_Partial</th>\n",
       "    </tr>\n",
       "  </thead>\n",
       "  <tbody>\n",
       "    <tr>\n",
       "      <th>0</th>\n",
       "      <td>1</td>\n",
       "      <td>60</td>\n",
       "      <td>8450</td>\n",
       "      <td>7</td>\n",
       "      <td>5</td>\n",
       "      <td>2003</td>\n",
       "      <td>2003</td>\n",
       "      <td>706</td>\n",
       "      <td>0</td>\n",
       "      <td>150</td>\n",
       "      <td>...</td>\n",
       "      <td>0</td>\n",
       "      <td>0</td>\n",
       "      <td>0</td>\n",
       "      <td>1</td>\n",
       "      <td>0</td>\n",
       "      <td>0</td>\n",
       "      <td>0</td>\n",
       "      <td>0</td>\n",
       "      <td>1</td>\n",
       "      <td>0</td>\n",
       "    </tr>\n",
       "    <tr>\n",
       "      <th>1</th>\n",
       "      <td>2</td>\n",
       "      <td>20</td>\n",
       "      <td>9600</td>\n",
       "      <td>6</td>\n",
       "      <td>8</td>\n",
       "      <td>1976</td>\n",
       "      <td>1976</td>\n",
       "      <td>978</td>\n",
       "      <td>0</td>\n",
       "      <td>284</td>\n",
       "      <td>...</td>\n",
       "      <td>0</td>\n",
       "      <td>0</td>\n",
       "      <td>0</td>\n",
       "      <td>1</td>\n",
       "      <td>0</td>\n",
       "      <td>0</td>\n",
       "      <td>0</td>\n",
       "      <td>0</td>\n",
       "      <td>1</td>\n",
       "      <td>0</td>\n",
       "    </tr>\n",
       "    <tr>\n",
       "      <th>2</th>\n",
       "      <td>3</td>\n",
       "      <td>60</td>\n",
       "      <td>11250</td>\n",
       "      <td>7</td>\n",
       "      <td>5</td>\n",
       "      <td>2001</td>\n",
       "      <td>2002</td>\n",
       "      <td>486</td>\n",
       "      <td>0</td>\n",
       "      <td>434</td>\n",
       "      <td>...</td>\n",
       "      <td>0</td>\n",
       "      <td>0</td>\n",
       "      <td>0</td>\n",
       "      <td>1</td>\n",
       "      <td>0</td>\n",
       "      <td>0</td>\n",
       "      <td>0</td>\n",
       "      <td>0</td>\n",
       "      <td>1</td>\n",
       "      <td>0</td>\n",
       "    </tr>\n",
       "    <tr>\n",
       "      <th>3</th>\n",
       "      <td>4</td>\n",
       "      <td>70</td>\n",
       "      <td>9550</td>\n",
       "      <td>7</td>\n",
       "      <td>5</td>\n",
       "      <td>1915</td>\n",
       "      <td>1970</td>\n",
       "      <td>216</td>\n",
       "      <td>0</td>\n",
       "      <td>540</td>\n",
       "      <td>...</td>\n",
       "      <td>0</td>\n",
       "      <td>0</td>\n",
       "      <td>0</td>\n",
       "      <td>1</td>\n",
       "      <td>1</td>\n",
       "      <td>0</td>\n",
       "      <td>0</td>\n",
       "      <td>0</td>\n",
       "      <td>0</td>\n",
       "      <td>0</td>\n",
       "    </tr>\n",
       "    <tr>\n",
       "      <th>4</th>\n",
       "      <td>5</td>\n",
       "      <td>60</td>\n",
       "      <td>14260</td>\n",
       "      <td>8</td>\n",
       "      <td>5</td>\n",
       "      <td>2000</td>\n",
       "      <td>2000</td>\n",
       "      <td>655</td>\n",
       "      <td>0</td>\n",
       "      <td>490</td>\n",
       "      <td>...</td>\n",
       "      <td>0</td>\n",
       "      <td>0</td>\n",
       "      <td>0</td>\n",
       "      <td>1</td>\n",
       "      <td>0</td>\n",
       "      <td>0</td>\n",
       "      <td>0</td>\n",
       "      <td>0</td>\n",
       "      <td>1</td>\n",
       "      <td>0</td>\n",
       "    </tr>\n",
       "  </tbody>\n",
       "</table>\n",
       "<p>5 rows × 222 columns</p>\n",
       "</div>"
      ],
      "text/plain": [
       "   Id  MSSubClass  LotArea  OverallQual  OverallCond  YearBuilt  YearRemodAdd  \\\n",
       "0   1          60     8450            7            5       2003          2003   \n",
       "1   2          20     9600            6            8       1976          1976   \n",
       "2   3          60    11250            7            5       2001          2002   \n",
       "3   4          70     9550            7            5       1915          1970   \n",
       "4   5          60    14260            8            5       2000          2000   \n",
       "\n",
       "   BsmtFinSF1  BsmtFinSF2  BsmtUnfSF  ...  SaleType_ConLw  SaleType_New  \\\n",
       "0         706           0        150  ...               0             0   \n",
       "1         978           0        284  ...               0             0   \n",
       "2         486           0        434  ...               0             0   \n",
       "3         216           0        540  ...               0             0   \n",
       "4         655           0        490  ...               0             0   \n",
       "\n",
       "   SaleType_Oth  SaleType_WD  SaleCondition_Abnorml  SaleCondition_AdjLand  \\\n",
       "0             0            1                      0                      0   \n",
       "1             0            1                      0                      0   \n",
       "2             0            1                      0                      0   \n",
       "3             0            1                      1                      0   \n",
       "4             0            1                      0                      0   \n",
       "\n",
       "   SaleCondition_Alloca  SaleCondition_Family  SaleCondition_Normal  \\\n",
       "0                     0                     0                     1   \n",
       "1                     0                     0                     1   \n",
       "2                     0                     0                     1   \n",
       "3                     0                     0                     0   \n",
       "4                     0                     0                     1   \n",
       "\n",
       "   SaleCondition_Partial  \n",
       "0                      0  \n",
       "1                      0  \n",
       "2                      0  \n",
       "3                      0  \n",
       "4                      0  \n",
       "\n",
       "[5 rows x 222 columns]"
      ]
     },
     "execution_count": 28,
     "metadata": {},
     "output_type": "execute_result"
    }
   ],
   "source": [
    "train_dum = pd.get_dummies(train_bersih)\n",
    "train_dum.head()"
   ]
  },
  {
   "cell_type": "code",
   "execution_count": 29,
   "metadata": {},
   "outputs": [
    {
     "data": {
      "text/plain": [
       "(1459, 222)"
      ]
     },
     "execution_count": 29,
     "metadata": {},
     "output_type": "execute_result"
    }
   ],
   "source": [
    "train_dum.shape"
   ]
  },
  {
   "cell_type": "code",
   "execution_count": 30,
   "metadata": {},
   "outputs": [],
   "source": [
    "#Regression Linear"
   ]
  },
  {
   "cell_type": "code",
   "execution_count": 31,
   "metadata": {},
   "outputs": [],
   "source": [
    "from sklearn.model_selection import train_test_split\n",
    "from sklearn.preprocessing import StandardScaler\n",
    "from sklearn.linear_model import LinearRegression\n",
    "from sklearn.metrics import mean_squared_error, mean_absolute_error\n",
    "from math import sqrt\n"
   ]
  },
  {
   "cell_type": "code",
   "execution_count": 32,
   "metadata": {},
   "outputs": [
    {
     "name": "stdout",
     "output_type": "stream",
     "text": [
      "(1167, 221)\n",
      "(292, 221)\n",
      "(1167, 1)\n",
      "(292, 1)\n"
     ]
    }
   ],
   "source": [
    "# x = semua kolom kecuali kolom terakhir yang di ujung sebelah kanan dataset atau SalePrice\n",
    "# y = SalePrice\n",
    "scaler = StandardScaler()\n",
    "X = train_dum.iloc[:, :-1]\n",
    "y = train_dum[['SalePrice']]\n",
    "# X_train: Untuk menampung data source yang akan dilatih.\n",
    "# X_test: Untuk menampung data target yang akan dilatih.\n",
    "# y_train: Untuk menampung data source yang akan digunakan untuk testing.\n",
    "# y_test: Untuk menampung data target yang akan digunakan untuk testing.\n",
    "X_train, X_test, y_train, y_test = train_test_split(\n",
    "    X, y,  test_size=0.2, random_state=10)\n",
    "# size = 0.2 artinya 20% dari dataset digunakan untuk testing\n",
    "\n",
    "print(X_train.shape)\n",
    "print(X_test.shape)\n",
    "print(y_train.shape)\n",
    "print(y_test.shape)\n"
   ]
  },
  {
   "cell_type": "code",
   "execution_count": 33,
   "metadata": {},
   "outputs": [
    {
     "name": "stdout",
     "output_type": "stream",
     "text": [
      "mean_squared_error :  1.0644618789144942e-24\n",
      "mean_absolute_error :  6.931502556099449e-13\n"
     ]
    }
   ],
   "source": [
    "# fit the model\n",
    "model = LinearRegression()\n",
    "\n",
    "#Fungsi fit() digunakan untuk melatih model\n",
    "model.fit(X_train, y_train)\n",
    "\n",
    "# predict() digunakan untuk memprediksi hasil model\n",
    "pred = model.predict(X_test)\n",
    "\n",
    "# mengevaluasi model dengan MAE\n",
    "# mean_absolute_error() adalah fungsi untuk men-generate nilai Mean Absolute Error (MAE) yang merupakan salah satu metode untuk mengukur seberapa baik hasil prediksi untuk kasus regresi.\n",
    "\n",
    "print(\n",
    "    'mean_squared_error : ', mean_squared_error(y_test, pred))\n",
    "print(\n",
    "    'mean_absolute_error : ', mean_absolute_error(y_test, pred))\n"
   ]
  },
  {
   "cell_type": "code",
   "execution_count": 34,
   "metadata": {},
   "outputs": [
    {
     "name": "stdout",
     "output_type": "stream",
     "text": [
      "Intercept:  [-8.8917318e-11]\n",
      "Coefficients:  [[ 1.10934443e-18 -1.07870747e-14 -1.99764250e-17 -1.40077836e-13\n",
      "  -6.26280711e-14  1.53772394e-15  5.86553375e-16  2.83830088e-12\n",
      "   2.83818346e-12  2.83824873e-12 -2.83884331e-12 -1.45929976e-11\n",
      "  -1.45937238e-11 -1.45949758e-11  1.45933079e-11 -2.28089899e-13\n",
      "  -5.68868249e-13 -3.25780635e-13 -3.35266320e-13  3.29253768e-14\n",
      "  -1.41708303e-12  8.30308045e-14 -1.56298585e-15 -6.87921942e-14\n",
      "  -1.38777878e-16  5.55111512e-17 -3.46077333e-16  5.41233725e-16\n",
      "  -1.72821826e-16 -1.33226763e-15  2.28983499e-16 -2.94902991e-17\n",
      "   1.75328502e-14  3.89688282e-14  1.00000000e+00 -1.64070146e-12\n",
      "  -1.46814852e-13  1.12661616e-12  6.33489788e-13  1.27599320e-13\n",
      "  -5.39238793e-14  6.27269504e-14 -3.10279580e-13 -3.12944115e-13\n",
      "   7.35304179e-13 -4.24337648e-13 -3.96444162e-13 -2.20601315e-13\n",
      "   7.65626711e-14  2.20939586e-13 -1.18224831e-12  1.18721743e-12\n",
      "   4.86355747e-14 -1.58501684e-14  2.18678374e-13 -1.34904241e-13\n",
      "   7.77936743e-14  1.70991693e-13  5.15763213e-13 -7.81401636e-13\n",
      "   5.16682183e-13  3.60147676e-13 -3.76795817e-13  2.23336107e-13\n",
      "   2.10487010e-13 -2.51784921e-13 -9.96869254e-13 -2.91303114e-13\n",
      "  -4.36286424e-13  9.00286790e-14  5.55031715e-13 -2.11518303e-13\n",
      "  -5.46708512e-13  1.60394267e-12 -2.04749412e-13 -7.53661022e-13\n",
      "  -5.53541588e-13  4.82364149e-13  6.60844643e-13 -7.73863612e-13\n",
      "  -4.51858603e-14  4.15858320e-13 -6.40945630e-14 -5.60402419e-15\n",
      "   1.19869392e-13 -4.12662959e-13  2.19931712e-13  3.14419497e-13\n",
      "   2.34317774e-14  2.42001514e-14  1.51714752e-12  3.71962010e-13\n",
      "  -1.30217191e-12 -8.81811985e-13 -5.97266160e-13  5.83295565e-13\n",
      "  -5.50514495e-13  6.74264485e-12 -2.24396890e-13 -1.48382175e-12\n",
      "  -1.85291279e-12 -2.62729725e-12 -1.46195903e-12  9.29695557e-13\n",
      "   1.96846012e-13  6.04601438e-13 -2.98216313e-13 -3.22144221e-13\n",
      "   1.31765085e-12 -7.32670868e-13  1.00506734e-12 -7.96529943e-13\n",
      "   2.33459085e-14 -1.23772520e-14 -5.89573529e-13 -1.49628183e-12\n",
      "  -7.67238703e-13 -8.60617133e-13 -6.23674723e-13  1.21950193e-12\n",
      "   2.39316032e-12  3.43589740e-13 -3.98264755e-13  3.54156808e-14\n",
      "   6.93889390e-18  0.00000000e+00  1.06005222e-12 -1.28628878e-12\n",
      "   2.43050371e-13 -8.71639566e-13 -5.76807135e-12  4.76756395e-12\n",
      "   1.05535285e-12 -2.93253269e-13 -1.48066802e-12  8.40031170e-13\n",
      "   3.31255943e-12 -2.27639088e-13  7.35141982e-13 -4.33071981e-13\n",
      "  -1.03043442e-12 -5.02120914e-13 -2.50209142e-13  6.74908046e-13\n",
      "   8.99797598e-13  2.81015142e-12 -2.73292261e-12 -7.88270491e-13\n",
      "  -2.79214152e-13  8.42104598e-13 -1.01621316e-12 -6.37181280e-13\n",
      "   9.88740340e-14 -1.83466111e-12 -1.12510175e-12  1.34929221e-12\n",
      "   2.31962193e-12  2.85957022e-13  3.00099572e-13 -4.59502228e-14\n",
      "  -6.10941853e-13  1.06746643e-12 -5.43537437e-13 -3.90194821e-13\n",
      "  -1.15030988e-12  4.94559255e-13  1.11198550e-12 -1.60466432e-12\n",
      "   8.88747843e-13 -5.89490262e-13 -2.26235697e-13 -2.96832003e-13\n",
      "  -1.01350438e-12 -1.41463230e-12  3.51092636e-12 -1.22877836e-12\n",
      "  -3.34388767e-13  1.39149456e-12 -1.84895502e-13  5.89799043e-13\n",
      "  -2.28672983e-13 -2.17645346e-13  7.19597992e-14 -5.15477418e-14\n",
      "   0.00000000e+00  3.90867894e-14 -3.93095279e-13  1.70686382e-13\n",
      "  -1.26895716e-12 -6.25322710e-13  1.62973281e-12  7.23423491e-13\n",
      "  -9.40665948e-13  4.35623759e-14  3.18365126e-15  2.04957579e-13\n",
      "   2.52556656e-13  2.93877769e-13  1.32359835e-13 -9.69880426e-13\n",
      "  -8.34316990e-13  1.46436552e-12  1.07530141e-13 -1.14592363e-13\n",
      "   4.80851903e-13 -5.90638649e-13  2.58029709e-13 -6.62621000e-13\n",
      "   1.20441851e-12 -7.96826147e-13 -9.29161262e-14 -1.93373095e-13\n",
      "   2.14765835e-12 -1.45696996e-12 -8.19046220e-13  5.39124301e-13\n",
      "  -1.53468210e-12 -2.85737753e-12 -3.75419314e-12 -3.23769223e-12\n",
      "  -2.21096492e-12]]\n"
     ]
    },
    {
     "data": {
      "text/plain": [
       "[('Id',\n",
       "  array([ 1.10934443e-18, -1.07870747e-14, -1.99764250e-17, -1.40077836e-13,\n",
       "         -6.26280711e-14,  1.53772394e-15,  5.86553375e-16,  2.83830088e-12,\n",
       "          2.83818346e-12,  2.83824873e-12, -2.83884331e-12, -1.45929976e-11,\n",
       "         -1.45937238e-11, -1.45949758e-11,  1.45933079e-11, -2.28089899e-13,\n",
       "         -5.68868249e-13, -3.25780635e-13, -3.35266320e-13,  3.29253768e-14,\n",
       "         -1.41708303e-12,  8.30308045e-14, -1.56298585e-15, -6.87921942e-14,\n",
       "         -1.38777878e-16,  5.55111512e-17, -3.46077333e-16,  5.41233725e-16,\n",
       "         -1.72821826e-16, -1.33226763e-15,  2.28983499e-16, -2.94902991e-17,\n",
       "          1.75328502e-14,  3.89688282e-14,  1.00000000e+00, -1.64070146e-12,\n",
       "         -1.46814852e-13,  1.12661616e-12,  6.33489788e-13,  1.27599320e-13,\n",
       "         -5.39238793e-14,  6.27269504e-14, -3.10279580e-13, -3.12944115e-13,\n",
       "          7.35304179e-13, -4.24337648e-13, -3.96444162e-13, -2.20601315e-13,\n",
       "          7.65626711e-14,  2.20939586e-13, -1.18224831e-12,  1.18721743e-12,\n",
       "          4.86355747e-14, -1.58501684e-14,  2.18678374e-13, -1.34904241e-13,\n",
       "          7.77936743e-14,  1.70991693e-13,  5.15763213e-13, -7.81401636e-13,\n",
       "          5.16682183e-13,  3.60147676e-13, -3.76795817e-13,  2.23336107e-13,\n",
       "          2.10487010e-13, -2.51784921e-13, -9.96869254e-13, -2.91303114e-13,\n",
       "         -4.36286424e-13,  9.00286790e-14,  5.55031715e-13, -2.11518303e-13,\n",
       "         -5.46708512e-13,  1.60394267e-12, -2.04749412e-13, -7.53661022e-13,\n",
       "         -5.53541588e-13,  4.82364149e-13,  6.60844643e-13, -7.73863612e-13,\n",
       "         -4.51858603e-14,  4.15858320e-13, -6.40945630e-14, -5.60402419e-15,\n",
       "          1.19869392e-13, -4.12662959e-13,  2.19931712e-13,  3.14419497e-13,\n",
       "          2.34317774e-14,  2.42001514e-14,  1.51714752e-12,  3.71962010e-13,\n",
       "         -1.30217191e-12, -8.81811985e-13, -5.97266160e-13,  5.83295565e-13,\n",
       "         -5.50514495e-13,  6.74264485e-12, -2.24396890e-13, -1.48382175e-12,\n",
       "         -1.85291279e-12, -2.62729725e-12, -1.46195903e-12,  9.29695557e-13,\n",
       "          1.96846012e-13,  6.04601438e-13, -2.98216313e-13, -3.22144221e-13,\n",
       "          1.31765085e-12, -7.32670868e-13,  1.00506734e-12, -7.96529943e-13,\n",
       "          2.33459085e-14, -1.23772520e-14, -5.89573529e-13, -1.49628183e-12,\n",
       "         -7.67238703e-13, -8.60617133e-13, -6.23674723e-13,  1.21950193e-12,\n",
       "          2.39316032e-12,  3.43589740e-13, -3.98264755e-13,  3.54156808e-14,\n",
       "          6.93889390e-18,  0.00000000e+00,  1.06005222e-12, -1.28628878e-12,\n",
       "          2.43050371e-13, -8.71639566e-13, -5.76807135e-12,  4.76756395e-12,\n",
       "          1.05535285e-12, -2.93253269e-13, -1.48066802e-12,  8.40031170e-13,\n",
       "          3.31255943e-12, -2.27639088e-13,  7.35141982e-13, -4.33071981e-13,\n",
       "         -1.03043442e-12, -5.02120914e-13, -2.50209142e-13,  6.74908046e-13,\n",
       "          8.99797598e-13,  2.81015142e-12, -2.73292261e-12, -7.88270491e-13,\n",
       "         -2.79214152e-13,  8.42104598e-13, -1.01621316e-12, -6.37181280e-13,\n",
       "          9.88740340e-14, -1.83466111e-12, -1.12510175e-12,  1.34929221e-12,\n",
       "          2.31962193e-12,  2.85957022e-13,  3.00099572e-13, -4.59502228e-14,\n",
       "         -6.10941853e-13,  1.06746643e-12, -5.43537437e-13, -3.90194821e-13,\n",
       "         -1.15030988e-12,  4.94559255e-13,  1.11198550e-12, -1.60466432e-12,\n",
       "          8.88747843e-13, -5.89490262e-13, -2.26235697e-13, -2.96832003e-13,\n",
       "         -1.01350438e-12, -1.41463230e-12,  3.51092636e-12, -1.22877836e-12,\n",
       "         -3.34388767e-13,  1.39149456e-12, -1.84895502e-13,  5.89799043e-13,\n",
       "         -2.28672983e-13, -2.17645346e-13,  7.19597992e-14, -5.15477418e-14,\n",
       "          0.00000000e+00,  3.90867894e-14, -3.93095279e-13,  1.70686382e-13,\n",
       "         -1.26895716e-12, -6.25322710e-13,  1.62973281e-12,  7.23423491e-13,\n",
       "         -9.40665948e-13,  4.35623759e-14,  3.18365126e-15,  2.04957579e-13,\n",
       "          2.52556656e-13,  2.93877769e-13,  1.32359835e-13, -9.69880426e-13,\n",
       "         -8.34316990e-13,  1.46436552e-12,  1.07530141e-13, -1.14592363e-13,\n",
       "          4.80851903e-13, -5.90638649e-13,  2.58029709e-13, -6.62621000e-13,\n",
       "          1.20441851e-12, -7.96826147e-13, -9.29161262e-14, -1.93373095e-13,\n",
       "          2.14765835e-12, -1.45696996e-12, -8.19046220e-13,  5.39124301e-13,\n",
       "         -1.53468210e-12, -2.85737753e-12, -3.75419314e-12, -3.23769223e-12,\n",
       "         -2.21096492e-12]))]"
      ]
     },
     "execution_count": 34,
     "metadata": {},
     "output_type": "execute_result"
    }
   ],
   "source": [
    "print('Intercept: ', model.intercept_)\n",
    "print('Coefficients: ', model.coef_)\n",
    "list(zip(train_dum, model.coef_))\n"
   ]
  },
  {
   "cell_type": "code",
   "execution_count": 35,
   "metadata": {},
   "outputs": [],
   "source": [
    "# model.score(X_test, y_test)"
   ]
  },
  {
   "cell_type": "code",
   "execution_count": 36,
   "metadata": {},
   "outputs": [
    {
     "ename": "NameError",
     "evalue": "name 'confusion_matrix' is not defined",
     "output_type": "error",
     "traceback": [
      "\u001b[1;31m---------------------------------------------------------------------------\u001b[0m",
      "\u001b[1;31mNameError\u001b[0m                                 Traceback (most recent call last)",
      "\u001b[1;32m~\\AppData\\Local\\Temp/ipykernel_2032/3255458166.py\u001b[0m in \u001b[0;36m<module>\u001b[1;34m\u001b[0m\n\u001b[0;32m      2\u001b[0m \u001b[1;32mimport\u001b[0m \u001b[0mmatplotlib\u001b[0m\u001b[1;33m.\u001b[0m\u001b[0mpyplot\u001b[0m \u001b[1;32mas\u001b[0m \u001b[0mplt\u001b[0m\u001b[1;33m\u001b[0m\u001b[1;33m\u001b[0m\u001b[0m\n\u001b[0;32m      3\u001b[0m \u001b[0mf\u001b[0m\u001b[1;33m,\u001b[0m \u001b[0max\u001b[0m \u001b[1;33m=\u001b[0m \u001b[0mplt\u001b[0m\u001b[1;33m.\u001b[0m\u001b[0msubplots\u001b[0m\u001b[1;33m(\u001b[0m\u001b[0mfigsize\u001b[0m\u001b[1;33m=\u001b[0m\u001b[1;33m(\u001b[0m\u001b[1;36m8\u001b[0m\u001b[1;33m,\u001b[0m \u001b[1;36m5\u001b[0m\u001b[1;33m)\u001b[0m\u001b[1;33m)\u001b[0m\u001b[1;33m\u001b[0m\u001b[1;33m\u001b[0m\u001b[0m\n\u001b[1;32m----> 4\u001b[1;33m \u001b[0msns\u001b[0m\u001b[1;33m.\u001b[0m\u001b[0mheatmap\u001b[0m\u001b[1;33m(\u001b[0m\u001b[0mconfusion_matrix\u001b[0m\u001b[1;33m(\u001b[0m\u001b[0my_test\u001b[0m\u001b[1;33m,\u001b[0m \u001b[0my_pred\u001b[0m\u001b[1;33m)\u001b[0m\u001b[1;33m,\u001b[0m \u001b[0mannot\u001b[0m\u001b[1;33m=\u001b[0m\u001b[1;32mTrue\u001b[0m\u001b[1;33m,\u001b[0m \u001b[0mfmt\u001b[0m\u001b[1;33m=\u001b[0m\u001b[1;34m\".0f\"\u001b[0m\u001b[1;33m,\u001b[0m \u001b[0max\u001b[0m\u001b[1;33m=\u001b[0m\u001b[0max\u001b[0m\u001b[1;33m)\u001b[0m\u001b[1;33m\u001b[0m\u001b[1;33m\u001b[0m\u001b[0m\n\u001b[0m\u001b[0;32m      5\u001b[0m \u001b[0mplt\u001b[0m\u001b[1;33m.\u001b[0m\u001b[0mxlabel\u001b[0m\u001b[1;33m(\u001b[0m\u001b[1;34m\"y_head\"\u001b[0m\u001b[1;33m)\u001b[0m\u001b[1;33m\u001b[0m\u001b[1;33m\u001b[0m\u001b[0m\n\u001b[0;32m      6\u001b[0m \u001b[0mplt\u001b[0m\u001b[1;33m.\u001b[0m\u001b[0mylabel\u001b[0m\u001b[1;33m(\u001b[0m\u001b[1;34m\"y_true\"\u001b[0m\u001b[1;33m)\u001b[0m\u001b[1;33m\u001b[0m\u001b[1;33m\u001b[0m\u001b[0m\n",
      "\u001b[1;31mNameError\u001b[0m: name 'confusion_matrix' is not defined"
     ]
    },
    {
     "data": {
      "image/png": "[encoded data removed]",
      "text/plain": [
       "<Figure size 576x360 with 1 Axes>"
      ]
     },
     "metadata": {
      "needs_background": "light"
     },
     "output_type": "display_data"
    }
   ],
   "source": [
    "import seaborn as sns\n",
    "import matplotlib.pyplot as plt\n",
    "f, ax = plt.subplots(figsize=(8, 5))\n",
    "sns.heatmap(confusion_matrix(y_test, y_pred), annot=True, fmt=\".0f\", ax=ax)\n",
    "plt.xlabel(\"y_head\")\n",
    "plt.ylabel(\"y_true\")\n",
    "plt.show()\n"
   ]
  },
  {
   "cell_type": "code",
   "execution_count": null,
   "metadata": {},
   "outputs": [],
   "source": [
    "test_bersih= data_test.drop((NaN[NaN['test'] > 1]).index, 1)"
   ]
  },
  {
   "cell_type": "code",
   "execution_count": null,
   "metadata": {},
   "outputs": [],
   "source": [
    "print(\"shape dataset test\" + \" \" + str(data_test.shape))\n",
    "print(\"shape dataset test setelah dibersihkan:\" + \" \" + str(test_bersih.shape))\n",
    "test_bersih.keys()\n"
   ]
  },
  {
   "cell_type": "code",
   "execution_count": null,
   "metadata": {},
   "outputs": [],
   "source": []
  }
 ],
 "metadata": {
  "kernelspec": {
   "display_name": "Python 3",
   "language": "python",
   "name": "python3"
  },
  "language_info": {
   "codemirror_mode": {
    "name": "ipython",
    "version": 3
   },
   "file_extension": ".py",
   "mimetype": "text/x-python",
   "name": "python",
   "nbconvert_exporter": "python",
   "pygments_lexer": "ipython3",
   "version": "3.9.1"
  },
  "orig_nbformat": 4,
  "vscode": {
   "interpreter": {
    "hash": "eabca979b0553fa6d87e9a00c352604d3b703d4afc9641643dd42376492b80f6"
   }
  }
 },
 "nbformat": 4,
 "nbformat_minor": 2
}
